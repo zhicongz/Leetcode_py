{
 "cells": [
  {
   "cell_type": "code",
   "execution_count": null,
   "metadata": {},
   "outputs": [],
   "source": [
    "class UnionFind:\n",
    "    def __init__(self, N):\n",
    "        self.ind = list(range(N))\n",
    "        self.sz = [1]*N\n",
    "    \n",
    "    def find(self, i):\n",
    "        while i != self.ind[i]:\n",
    "            self.ind[i] = self.ind[self.ind[i]]\n",
    "            i = self.ind[i]\n",
    "        return(i)\n",
    "    \n",
    "    def conn(self, item):\n",
    "        [a,b] = item\n",
    "        rt_a = self.find(a)\n",
    "        rt_b = self.find(b)\n",
    "        if self.sz[rt_a] >= self.sz[rt_b]:\n",
    "            self.ind[b] = rt_a\n",
    "            self.sz[rt_a] += self.sz[rt_b]\n",
    "        else:\n",
    "            self.ind[a] = rt_b\n",
    "            self.sz[rt_b] += self.sz[rt_a]\n",
    "        \n",
    "    def out(self):\n",
    "        return([self.ind[self.ind[i]] for i in range(N)])\n",
    "    \n",
    "    \n",
    "\n",
    "foo = UnionFind(N)\n",
    "conn = [[3,4],[4,9],[8,0],[2,3],[5,6],[5,9],[7,3],[4,8],[6,1]]\n",
    "for item in conn:\n",
    "    foo.conn(item)\n",
    "foo.out()"
   ]
  }
 ],
 "metadata": {
  "kernelspec": {
   "display_name": "Python 3",
   "language": "python",
   "name": "python3"
  },
  "language_info": {
   "codemirror_mode": {
    "name": "ipython",
    "version": 3
   },
   "file_extension": ".py",
   "mimetype": "text/x-python",
   "name": "python",
   "nbconvert_exporter": "python",
   "pygments_lexer": "ipython3",
   "version": "3.7.4"
  }
 },
 "nbformat": 4,
 "nbformat_minor": 2
}
